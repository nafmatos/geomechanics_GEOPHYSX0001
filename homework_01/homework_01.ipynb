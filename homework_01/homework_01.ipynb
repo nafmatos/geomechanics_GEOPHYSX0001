{
 "cells": [
  {
   "cell_type": "markdown",
   "metadata": {},
   "source": [
    "# Reservoir Geomechanics EDX Course (GEOPHYSX0001)- Homework 01"
   ]
  },
  {
   "cell_type": "markdown",
   "metadata": {},
   "source": [
    "The Stanford Online Reservoir Geomechanics course is available at [EDX](https://courses.edx.org/courses/course-v1:StanfordOnline+GEOPHYSX0001+2T2020/course/). You can find more information about the course [here](https://online.stanford.edu/courses/soeees-ygeoresgeo202-reservoir-geomechanics).<br>\n",
    "\n",
    "This file contains answers to homework number one. You should follow the questions available in the file `Reservoir_Geomechanics_MOOC_HW1_2020.pdf` to understand the answers provided by the present file.<br>"
   ]
  },
  {
   "cell_type": "code",
   "execution_count": 1,
   "metadata": {},
   "outputs": [],
   "source": [
    "import os\n",
    "import pandas as pd\n",
    "import numpy as np\n",
    "import matplotlib.pyplot as plt\n",
    "%matplotlib inline\n",
    "# %matplotlib qt "
   ]
  },
  {
   "cell_type": "code",
   "execution_count": 2,
   "metadata": {},
   "outputs": [],
   "source": [
    "# Folder that holds the data provided by EDX.\n",
    "DATA = \"data\""
   ]
  },
  {
   "cell_type": "markdown",
   "metadata": {},
   "source": [
    "---"
   ]
  },
  {
   "cell_type": "markdown",
   "metadata": {},
   "source": [
    "## Table of Contents"
   ]
  },
  {
   "cell_type": "markdown",
   "metadata": {},
   "source": [
    "* [Read the Data](#read-data)\n",
    "* [I. Compute the Overburden Stress and the Overburden Gradient](#compute-overburden)\n",
    ">* [1. Make a plot of density versus depth](#plot_data)\n",
    ">* [2.“Block” the log into 5 depth units](#plot_chunks)\n",
    "* [II. Compute Porosity From Density Measurements](#compute-porosity)"
   ]
  },
  {
   "cell_type": "markdown",
   "metadata": {},
   "source": [
    "---"
   ]
  },
  {
   "cell_type": "markdown",
   "metadata": {},
   "source": [
    "## Read the Data <a class=\"anchor\" id=\"read-data\"></a>"
   ]
  },
  {
   "cell_type": "markdown",
   "metadata": {},
   "source": [
    "The following files are provided by EDX, and are stored in the `data` folder:\n",
    "* `Barnett_density_data.txt`\n",
    "* `GOM_offshore_density_data.txt`"
   ]
  },
  {
   "cell_type": "markdown",
   "metadata": {},
   "source": [
    "Opening the files using a text editor, it is possible to see that both have the same structure. We can see that:<br>\n",
    "\n",
    "1 - The first line holds the headers.<br>\n",
    "2 - The second line is blank.<br>\n",
    "3 - The third line is the first line that contains data."
   ]
  },
  {
   "cell_type": "markdown",
   "metadata": {},
   "source": [
    "#### Barnett data:"
   ]
  },
  {
   "cell_type": "code",
   "execution_count": 3,
   "metadata": {},
   "outputs": [
    {
     "data": {
      "text/html": [
       "<div>\n",
       "<style scoped>\n",
       "    .dataframe tbody tr th:only-of-type {\n",
       "        vertical-align: middle;\n",
       "    }\n",
       "\n",
       "    .dataframe tbody tr th {\n",
       "        vertical-align: top;\n",
       "    }\n",
       "\n",
       "    .dataframe thead th {\n",
       "        text-align: right;\n",
       "    }\n",
       "</style>\n",
       "<table border=\"1\" class=\"dataframe\">\n",
       "  <thead>\n",
       "    <tr style=\"text-align: right;\">\n",
       "      <th></th>\n",
       "      <th>depth_ft</th>\n",
       "      <th>density_gcm3</th>\n",
       "    </tr>\n",
       "  </thead>\n",
       "  <tbody>\n",
       "    <tr>\n",
       "      <th>0</th>\n",
       "      <td>100.5</td>\n",
       "      <td>1.8778</td>\n",
       "    </tr>\n",
       "    <tr>\n",
       "      <th>1</th>\n",
       "      <td>101.0</td>\n",
       "      <td>1.8709</td>\n",
       "    </tr>\n",
       "    <tr>\n",
       "      <th>2</th>\n",
       "      <td>101.5</td>\n",
       "      <td>1.8317</td>\n",
       "    </tr>\n",
       "    <tr>\n",
       "      <th>3</th>\n",
       "      <td>102.0</td>\n",
       "      <td>1.8363</td>\n",
       "    </tr>\n",
       "    <tr>\n",
       "      <th>4</th>\n",
       "      <td>102.5</td>\n",
       "      <td>1.8500</td>\n",
       "    </tr>\n",
       "  </tbody>\n",
       "</table>\n",
       "</div>"
      ],
      "text/plain": [
       "   depth_ft  density_gcm3\n",
       "0     100.5        1.8778\n",
       "1     101.0        1.8709\n",
       "2     101.5        1.8317\n",
       "3     102.0        1.8363\n",
       "4     102.5        1.8500"
      ]
     },
     "execution_count": 3,
     "metadata": {},
     "output_type": "execute_result"
    }
   ],
   "source": [
    "# Read the data:\n",
    "barnett_bottom = pd.read_csv(os.path.join(DATA, \"Barnett_density_data.txt\"), \n",
    "                             sep='\\t',\n",
    "                             header=0,\n",
    "                             names=[\"depth_ft\", \"density_gcm3\"])\n",
    "# Take a look:\n",
    "barnett_bottom.head()"
   ]
  },
  {
   "cell_type": "code",
   "execution_count": 4,
   "metadata": {},
   "outputs": [
    {
     "data": {
      "text/plain": [
       "depth_ft        False\n",
       "density_gcm3     True\n",
       "dtype: bool"
      ]
     },
     "execution_count": 4,
     "metadata": {},
     "output_type": "execute_result"
    }
   ],
   "source": [
    "# Check if there are NANs:\n",
    "barnett_bottom.isnull().any()"
   ]
  },
  {
   "cell_type": "code",
   "execution_count": 5,
   "metadata": {},
   "outputs": [
    {
     "data": {
      "text/plain": [
       "depth_ft        False\n",
       "density_gcm3    False\n",
       "dtype: bool"
      ]
     },
     "execution_count": 5,
     "metadata": {},
     "output_type": "execute_result"
    }
   ],
   "source": [
    "# Drop duplicates:\n",
    "barnett_bottom.dropna(inplace=True)\n",
    "# Check:\n",
    "barnett_bottom.isnull().any()"
   ]
  },
  {
   "cell_type": "code",
   "execution_count": 6,
   "metadata": {},
   "outputs": [
    {
     "data": {
      "text/html": [
       "<div>\n",
       "<style scoped>\n",
       "    .dataframe tbody tr th:only-of-type {\n",
       "        vertical-align: middle;\n",
       "    }\n",
       "\n",
       "    .dataframe tbody tr th {\n",
       "        vertical-align: top;\n",
       "    }\n",
       "\n",
       "    .dataframe thead th {\n",
       "        text-align: right;\n",
       "    }\n",
       "</style>\n",
       "<table border=\"1\" class=\"dataframe\">\n",
       "  <thead>\n",
       "    <tr style=\"text-align: right;\">\n",
       "      <th></th>\n",
       "      <th>depth_ft</th>\n",
       "      <th>density_gcm3</th>\n",
       "    </tr>\n",
       "  </thead>\n",
       "  <tbody>\n",
       "    <tr>\n",
       "      <th>12182</th>\n",
       "      <td>6191.5</td>\n",
       "      <td>2.0703</td>\n",
       "    </tr>\n",
       "    <tr>\n",
       "      <th>12183</th>\n",
       "      <td>6192.0</td>\n",
       "      <td>2.0857</td>\n",
       "    </tr>\n",
       "    <tr>\n",
       "      <th>12184</th>\n",
       "      <td>6192.5</td>\n",
       "      <td>2.1434</td>\n",
       "    </tr>\n",
       "    <tr>\n",
       "      <th>12185</th>\n",
       "      <td>6193.0</td>\n",
       "      <td>2.3314</td>\n",
       "    </tr>\n",
       "    <tr>\n",
       "      <th>12186</th>\n",
       "      <td>6193.5</td>\n",
       "      <td>2.6056</td>\n",
       "    </tr>\n",
       "  </tbody>\n",
       "</table>\n",
       "</div>"
      ],
      "text/plain": [
       "       depth_ft  density_gcm3\n",
       "12182    6191.5        2.0703\n",
       "12183    6192.0        2.0857\n",
       "12184    6192.5        2.1434\n",
       "12185    6193.0        2.3314\n",
       "12186    6193.5        2.6056"
      ]
     },
     "execution_count": 6,
     "metadata": {},
     "output_type": "execute_result"
    }
   ],
   "source": [
    "barnett_bottom.tail()"
   ]
  },
  {
   "cell_type": "markdown",
   "metadata": {},
   "source": [
    "#### GOM data:"
   ]
  },
  {
   "cell_type": "code",
   "execution_count": 7,
   "metadata": {},
   "outputs": [
    {
     "data": {
      "text/html": [
       "<div>\n",
       "<style scoped>\n",
       "    .dataframe tbody tr th:only-of-type {\n",
       "        vertical-align: middle;\n",
       "    }\n",
       "\n",
       "    .dataframe tbody tr th {\n",
       "        vertical-align: top;\n",
       "    }\n",
       "\n",
       "    .dataframe thead th {\n",
       "        text-align: right;\n",
       "    }\n",
       "</style>\n",
       "<table border=\"1\" class=\"dataframe\">\n",
       "  <thead>\n",
       "    <tr style=\"text-align: right;\">\n",
       "      <th></th>\n",
       "      <th>depth_ft</th>\n",
       "      <th>density_gcm3</th>\n",
       "    </tr>\n",
       "  </thead>\n",
       "  <tbody>\n",
       "    <tr>\n",
       "      <th>0</th>\n",
       "      <td>3515</td>\n",
       "      <td>2.154</td>\n",
       "    </tr>\n",
       "    <tr>\n",
       "      <th>1</th>\n",
       "      <td>3516</td>\n",
       "      <td>2.126</td>\n",
       "    </tr>\n",
       "    <tr>\n",
       "      <th>2</th>\n",
       "      <td>3517</td>\n",
       "      <td>2.098</td>\n",
       "    </tr>\n",
       "    <tr>\n",
       "      <th>3</th>\n",
       "      <td>3518</td>\n",
       "      <td>2.063</td>\n",
       "    </tr>\n",
       "    <tr>\n",
       "      <th>4</th>\n",
       "      <td>3519</td>\n",
       "      <td>2.084</td>\n",
       "    </tr>\n",
       "  </tbody>\n",
       "</table>\n",
       "</div>"
      ],
      "text/plain": [
       "   depth_ft  density_gcm3\n",
       "0      3515         2.154\n",
       "1      3516         2.126\n",
       "2      3517         2.098\n",
       "3      3518         2.063\n",
       "4      3519         2.084"
      ]
     },
     "execution_count": 7,
     "metadata": {},
     "output_type": "execute_result"
    }
   ],
   "source": [
    "# Read the data:\n",
    "gom_bottom = pd.read_csv(os.path.join(DATA, \"GOM_offshore_density_data.txt\"), \n",
    "                       sep='\\t',\n",
    "                       header=0,\n",
    "                       names=[\"depth_ft\", \"density_gcm3\"])\n",
    "# Take a look:\n",
    "gom_bottom.head()"
   ]
  },
  {
   "cell_type": "code",
   "execution_count": 8,
   "metadata": {},
   "outputs": [
    {
     "data": {
      "text/plain": [
       "depth_ft        False\n",
       "density_gcm3    False\n",
       "dtype: bool"
      ]
     },
     "execution_count": 8,
     "metadata": {},
     "output_type": "execute_result"
    }
   ],
   "source": [
    "# Check if there are NANs:\n",
    "gom_bottom.isnull().any()"
   ]
  },
  {
   "cell_type": "markdown",
   "metadata": {},
   "source": [
    "---"
   ]
  },
  {
   "cell_type": "markdown",
   "metadata": {},
   "source": [
    "## I. Compute the overburden stress and the overburden gradient <a class=\"anchor\" id=\"compute-overburden\"></a>"
   ]
  },
  {
   "cell_type": "markdown",
   "metadata": {},
   "source": [
    "Define a function to plot the data."
   ]
  },
  {
   "cell_type": "code",
   "execution_count": 9,
   "metadata": {},
   "outputs": [],
   "source": [
    "def plot_profile(df, title):\n",
    "    \"\"\"Function to plot the data.\"\"\"\n",
    "    x = df[\"density_gcm3\"]\n",
    "    y = df[\"depth_ft\"]\n",
    "    # Plot the data:\n",
    "    plt.figure(figsize=(16,16))\n",
    "    plt.plot(x, y, \n",
    "             color=\"green\", \n",
    "             linewidth=0.5,\n",
    "             label=\"density (g/cm³)\")\n",
    "    # Set the Y  limits and reverse it:\n",
    "    plt.ylim(np.max(y), np.min(y))\n",
    "    plt.xlim(1.0, None)\n",
    "    # Set the figure title:\n",
    "    plt.title(title, y= 1.02, fontsize=24)\n",
    "    # Set X and Y titles and font sizes:\n",
    "    plt.xlabel(\"Density (g/cm³)\", fontsize=20)\n",
    "    plt.ylabel(\"Depth (ft)\", fontsize=20)\n",
    "    # Set the grid properties\n",
    "    plt.grid(True)\n",
    "    plt.xticks(fontsize=16)\n",
    "    plt.yticks(fontsize=16)\n",
    "    # Insert a legend:\n",
    "    plt.legend(prop={'size': 16})"
   ]
  },
  {
   "cell_type": "markdown",
   "metadata": {},
   "source": [
    "### 1. Make a plot of density versus depth <a class=\"anchor\" id=\"plot_data\"></a>"
   ]
  },
  {
   "cell_type": "markdown",
   "metadata": {},
   "source": [
    "#### Barnett data:<BR>\n",
    "\n",
    "**\"_Barnett data – assume a reasonable surface density 1.8778g/cm³ to extrapolate to the first measurement point._\"**"
   ]
  },
  {
   "cell_type": "code",
   "execution_count": 10,
   "metadata": {},
   "outputs": [
    {
     "data": {
      "text/plain": [
       "array([  0. ,   0.5,   1. ,   1.5,   2. ,   2.5,   3. ,   3.5,   4. ,\n",
       "         4.5,   5. ,   5.5,   6. ,   6.5,   7. ,   7.5,   8. ,   8.5,\n",
       "         9. ,   9.5,  10. ,  10.5,  11. ,  11.5,  12. ,  12.5,  13. ,\n",
       "        13.5,  14. ,  14.5,  15. ,  15.5,  16. ,  16.5,  17. ,  17.5,\n",
       "        18. ,  18.5,  19. ,  19.5,  20. ,  20.5,  21. ,  21.5,  22. ,\n",
       "        22.5,  23. ,  23.5,  24. ,  24.5,  25. ,  25.5,  26. ,  26.5,\n",
       "        27. ,  27.5,  28. ,  28.5,  29. ,  29.5,  30. ,  30.5,  31. ,\n",
       "        31.5,  32. ,  32.5,  33. ,  33.5,  34. ,  34.5,  35. ,  35.5,\n",
       "        36. ,  36.5,  37. ,  37.5,  38. ,  38.5,  39. ,  39.5,  40. ,\n",
       "        40.5,  41. ,  41.5,  42. ,  42.5,  43. ,  43.5,  44. ,  44.5,\n",
       "        45. ,  45.5,  46. ,  46.5,  47. ,  47.5,  48. ,  48.5,  49. ,\n",
       "        49.5,  50. ,  50.5,  51. ,  51.5,  52. ,  52.5,  53. ,  53.5,\n",
       "        54. ,  54.5,  55. ,  55.5,  56. ,  56.5,  57. ,  57.5,  58. ,\n",
       "        58.5,  59. ,  59.5,  60. ,  60.5,  61. ,  61.5,  62. ,  62.5,\n",
       "        63. ,  63.5,  64. ,  64.5,  65. ,  65.5,  66. ,  66.5,  67. ,\n",
       "        67.5,  68. ,  68.5,  69. ,  69.5,  70. ,  70.5,  71. ,  71.5,\n",
       "        72. ,  72.5,  73. ,  73.5,  74. ,  74.5,  75. ,  75.5,  76. ,\n",
       "        76.5,  77. ,  77.5,  78. ,  78.5,  79. ,  79.5,  80. ,  80.5,\n",
       "        81. ,  81.5,  82. ,  82.5,  83. ,  83.5,  84. ,  84.5,  85. ,\n",
       "        85.5,  86. ,  86.5,  87. ,  87.5,  88. ,  88.5,  89. ,  89.5,\n",
       "        90. ,  90.5,  91. ,  91.5,  92. ,  92.5,  93. ,  93.5,  94. ,\n",
       "        94.5,  95. ,  95.5,  96. ,  96.5,  97. ,  97.5,  98. ,  98.5,\n",
       "        99. ,  99.5, 100. ], dtype=float32)"
      ]
     },
     "execution_count": 10,
     "metadata": {},
     "output_type": "execute_result"
    }
   ],
   "source": [
    "# Create a vector that represents the depth from ZERO to the first given point.\n",
    "barnett_surface_depth = np.arange(0, 100.5, .5, dtype=np.float32)\n",
    "barnett_surface_depth"
   ]
  },
  {
   "cell_type": "code",
   "execution_count": 11,
   "metadata": {},
   "outputs": [
    {
     "data": {
      "text/plain": [
       "array([1.8778, 1.8778, 1.8778, 1.8778, 1.8778, 1.8778, 1.8778, 1.8778,\n",
       "       1.8778, 1.8778, 1.8778, 1.8778, 1.8778, 1.8778, 1.8778, 1.8778,\n",
       "       1.8778, 1.8778, 1.8778, 1.8778, 1.8778, 1.8778, 1.8778, 1.8778,\n",
       "       1.8778, 1.8778, 1.8778, 1.8778, 1.8778, 1.8778, 1.8778, 1.8778,\n",
       "       1.8778, 1.8778, 1.8778, 1.8778, 1.8778, 1.8778, 1.8778, 1.8778,\n",
       "       1.8778, 1.8778, 1.8778, 1.8778, 1.8778, 1.8778, 1.8778, 1.8778,\n",
       "       1.8778, 1.8778, 1.8778, 1.8778, 1.8778, 1.8778, 1.8778, 1.8778,\n",
       "       1.8778, 1.8778, 1.8778, 1.8778, 1.8778, 1.8778, 1.8778, 1.8778,\n",
       "       1.8778, 1.8778, 1.8778, 1.8778, 1.8778, 1.8778, 1.8778, 1.8778,\n",
       "       1.8778, 1.8778, 1.8778, 1.8778, 1.8778, 1.8778, 1.8778, 1.8778,\n",
       "       1.8778, 1.8778, 1.8778, 1.8778, 1.8778, 1.8778, 1.8778, 1.8778,\n",
       "       1.8778, 1.8778, 1.8778, 1.8778, 1.8778, 1.8778, 1.8778, 1.8778,\n",
       "       1.8778, 1.8778, 1.8778, 1.8778, 1.8778, 1.8778, 1.8778, 1.8778,\n",
       "       1.8778, 1.8778, 1.8778, 1.8778, 1.8778, 1.8778, 1.8778, 1.8778,\n",
       "       1.8778, 1.8778, 1.8778, 1.8778, 1.8778, 1.8778, 1.8778, 1.8778,\n",
       "       1.8778, 1.8778, 1.8778, 1.8778, 1.8778, 1.8778, 1.8778, 1.8778,\n",
       "       1.8778, 1.8778, 1.8778, 1.8778, 1.8778, 1.8778, 1.8778, 1.8778,\n",
       "       1.8778, 1.8778, 1.8778, 1.8778, 1.8778, 1.8778, 1.8778, 1.8778,\n",
       "       1.8778, 1.8778, 1.8778, 1.8778, 1.8778, 1.8778, 1.8778, 1.8778,\n",
       "       1.8778, 1.8778, 1.8778, 1.8778, 1.8778, 1.8778, 1.8778, 1.8778,\n",
       "       1.8778, 1.8778, 1.8778, 1.8778, 1.8778, 1.8778, 1.8778, 1.8778,\n",
       "       1.8778, 1.8778, 1.8778, 1.8778, 1.8778, 1.8778, 1.8778, 1.8778,\n",
       "       1.8778, 1.8778, 1.8778, 1.8778, 1.8778, 1.8778, 1.8778, 1.8778,\n",
       "       1.8778, 1.8778, 1.8778, 1.8778, 1.8778, 1.8778, 1.8778, 1.8778,\n",
       "       1.8778, 1.8778, 1.8778, 1.8778, 1.8778, 1.8778, 1.8778, 1.8778,\n",
       "       1.8778], dtype=float32)"
      ]
     },
     "execution_count": 11,
     "metadata": {},
     "output_type": "execute_result"
    }
   ],
   "source": [
    "# Create a vector that represents density (constant = 1.8778g/cm^3) from ZERO to the first given point\n",
    "barnett_surface_density = np.repeat(np.float32(1.8778), barnett_surface_depth.shape)\n",
    "barnett_surface_density"
   ]
  },
  {
   "cell_type": "code",
   "execution_count": 12,
   "metadata": {},
   "outputs": [
    {
     "data": {
      "text/html": [
       "<div>\n",
       "<style scoped>\n",
       "    .dataframe tbody tr th:only-of-type {\n",
       "        vertical-align: middle;\n",
       "    }\n",
       "\n",
       "    .dataframe tbody tr th {\n",
       "        vertical-align: top;\n",
       "    }\n",
       "\n",
       "    .dataframe thead th {\n",
       "        text-align: right;\n",
       "    }\n",
       "</style>\n",
       "<table border=\"1\" class=\"dataframe\">\n",
       "  <thead>\n",
       "    <tr style=\"text-align: right;\">\n",
       "      <th></th>\n",
       "      <th>depth_ft</th>\n",
       "      <th>density_gcm3</th>\n",
       "    </tr>\n",
       "  </thead>\n",
       "  <tbody>\n",
       "    <tr>\n",
       "      <th>0</th>\n",
       "      <td>0.0</td>\n",
       "      <td>1.8778</td>\n",
       "    </tr>\n",
       "    <tr>\n",
       "      <th>1</th>\n",
       "      <td>0.5</td>\n",
       "      <td>1.8778</td>\n",
       "    </tr>\n",
       "    <tr>\n",
       "      <th>2</th>\n",
       "      <td>1.0</td>\n",
       "      <td>1.8778</td>\n",
       "    </tr>\n",
       "    <tr>\n",
       "      <th>3</th>\n",
       "      <td>1.5</td>\n",
       "      <td>1.8778</td>\n",
       "    </tr>\n",
       "    <tr>\n",
       "      <th>4</th>\n",
       "      <td>2.0</td>\n",
       "      <td>1.8778</td>\n",
       "    </tr>\n",
       "  </tbody>\n",
       "</table>\n",
       "</div>"
      ],
      "text/plain": [
       "   depth_ft  density_gcm3\n",
       "0       0.0        1.8778\n",
       "1       0.5        1.8778\n",
       "2       1.0        1.8778\n",
       "3       1.5        1.8778\n",
       "4       2.0        1.8778"
      ]
     },
     "execution_count": 12,
     "metadata": {},
     "output_type": "execute_result"
    }
   ],
   "source": [
    "# Create the surface dataframe:\n",
    "barnett_surface = pd.DataFrame({\"depth_ft\": barnett_surface_depth, \"density_gcm3\": barnett_surface_density})\n",
    "# Take a look:\n",
    "barnett_surface.head()"
   ]
  },
  {
   "cell_type": "code",
   "execution_count": 13,
   "metadata": {},
   "outputs": [
    {
     "data": {
      "text/html": [
       "<div>\n",
       "<style scoped>\n",
       "    .dataframe tbody tr th:only-of-type {\n",
       "        vertical-align: middle;\n",
       "    }\n",
       "\n",
       "    .dataframe tbody tr th {\n",
       "        vertical-align: top;\n",
       "    }\n",
       "\n",
       "    .dataframe thead th {\n",
       "        text-align: right;\n",
       "    }\n",
       "</style>\n",
       "<table border=\"1\" class=\"dataframe\">\n",
       "  <thead>\n",
       "    <tr style=\"text-align: right;\">\n",
       "      <th></th>\n",
       "      <th>depth_ft</th>\n",
       "      <th>density_gcm3</th>\n",
       "    </tr>\n",
       "  </thead>\n",
       "  <tbody>\n",
       "    <tr>\n",
       "      <th>0</th>\n",
       "      <td>0.0</td>\n",
       "      <td>1.8778</td>\n",
       "    </tr>\n",
       "    <tr>\n",
       "      <th>1</th>\n",
       "      <td>0.5</td>\n",
       "      <td>1.8778</td>\n",
       "    </tr>\n",
       "    <tr>\n",
       "      <th>2</th>\n",
       "      <td>1.0</td>\n",
       "      <td>1.8778</td>\n",
       "    </tr>\n",
       "    <tr>\n",
       "      <th>3</th>\n",
       "      <td>1.5</td>\n",
       "      <td>1.8778</td>\n",
       "    </tr>\n",
       "    <tr>\n",
       "      <th>4</th>\n",
       "      <td>2.0</td>\n",
       "      <td>1.8778</td>\n",
       "    </tr>\n",
       "  </tbody>\n",
       "</table>\n",
       "</div>"
      ],
      "text/plain": [
       "   depth_ft  density_gcm3\n",
       "0       0.0        1.8778\n",
       "1       0.5        1.8778\n",
       "2       1.0        1.8778\n",
       "3       1.5        1.8778\n",
       "4       2.0        1.8778"
      ]
     },
     "execution_count": 13,
     "metadata": {},
     "output_type": "execute_result"
    }
   ],
   "source": [
    "# Concatenate both surface and bottom dataframes:\n",
    "barnett = pd.concat([barnett_surface, barnett_bottom], ignore_index=True)\n",
    "# Take a look:\n",
    "barnett.head()"
   ]
  },
  {
   "cell_type": "code",
   "execution_count": 14,
   "metadata": {},
   "outputs": [
    {
     "data": {
      "image/png": "[encoded data removed]",
      "text/plain": [
       "<Figure size 1152x1152 with 1 Axes>"
      ]
     },
     "metadata": {
      "needs_background": "light"
     },
     "output_type": "display_data"
    }
   ],
   "source": [
    "plot_profile(barnett, \"Barnett Data\")"
   ]
  },
  {
   "cell_type": "markdown",
   "metadata": {},
   "source": [
    "#### GOM data:<br>\n",
    "\n",
    "**\"_GOM data – use a density of 1.0 g/cm³ from the surface to the sea floor (depth of 1000ft) and a formation density of 1.7g/cm³ at the sea floor. Linearly interpolate the density between the sea floor and the depth at which the data starts (at the depth of 3515 ft)._\"**"
   ]
  },
  {
   "cell_type": "code",
   "execution_count": 15,
   "metadata": {},
   "outputs": [
    {
     "data": {
      "text/plain": [
       "array([   0.,    1.,    2., ...,  998.,  999., 1000.], dtype=float32)"
      ]
     },
     "execution_count": 15,
     "metadata": {},
     "output_type": "execute_result"
    }
   ],
   "source": [
    "# Create a vector that represents the depth from the sea surface to the bottom:\n",
    "gom_sea_depth =  np.arange(0, 1001, 1, dtype=np.float32)\n",
    "gom_sea_depth"
   ]
  },
  {
   "cell_type": "code",
   "execution_count": 16,
   "metadata": {},
   "outputs": [
    {
     "data": {
      "text/plain": [
       "array([1., 1., 1., ..., 1., 1., 1.], dtype=float32)"
      ]
     },
     "execution_count": 16,
     "metadata": {},
     "output_type": "execute_result"
    }
   ],
   "source": [
    "# Create a vector that represents the sea water density (constant = 1.0g/cm^3):\n",
    "gom_sea_density = np.full(gom_sea_depth.shape, fill_value=1.0, dtype=np.float32)\n",
    "gom_sea_density"
   ]
  },
  {
   "cell_type": "code",
   "execution_count": 17,
   "metadata": {},
   "outputs": [
    {
     "data": {
      "text/html": [
       "<div>\n",
       "<style scoped>\n",
       "    .dataframe tbody tr th:only-of-type {\n",
       "        vertical-align: middle;\n",
       "    }\n",
       "\n",
       "    .dataframe tbody tr th {\n",
       "        vertical-align: top;\n",
       "    }\n",
       "\n",
       "    .dataframe thead th {\n",
       "        text-align: right;\n",
       "    }\n",
       "</style>\n",
       "<table border=\"1\" class=\"dataframe\">\n",
       "  <thead>\n",
       "    <tr style=\"text-align: right;\">\n",
       "      <th></th>\n",
       "      <th>depth_ft</th>\n",
       "      <th>density_gcm3</th>\n",
       "    </tr>\n",
       "  </thead>\n",
       "  <tbody>\n",
       "    <tr>\n",
       "      <th>0</th>\n",
       "      <td>0.0</td>\n",
       "      <td>1.0</td>\n",
       "    </tr>\n",
       "    <tr>\n",
       "      <th>1</th>\n",
       "      <td>1.0</td>\n",
       "      <td>1.0</td>\n",
       "    </tr>\n",
       "    <tr>\n",
       "      <th>2</th>\n",
       "      <td>2.0</td>\n",
       "      <td>1.0</td>\n",
       "    </tr>\n",
       "    <tr>\n",
       "      <th>3</th>\n",
       "      <td>3.0</td>\n",
       "      <td>1.0</td>\n",
       "    </tr>\n",
       "    <tr>\n",
       "      <th>4</th>\n",
       "      <td>4.0</td>\n",
       "      <td>1.0</td>\n",
       "    </tr>\n",
       "  </tbody>\n",
       "</table>\n",
       "</div>"
      ],
      "text/plain": [
       "   depth_ft  density_gcm3\n",
       "0       0.0           1.0\n",
       "1       1.0           1.0\n",
       "2       2.0           1.0\n",
       "3       3.0           1.0\n",
       "4       4.0           1.0"
      ]
     },
     "execution_count": 17,
     "metadata": {},
     "output_type": "execute_result"
    }
   ],
   "source": [
    "# Create the sea dataframe:\n",
    "gom_sea = pd.DataFrame({\"depth_ft\": gom_sea_depth, \"density_gcm3\": gom_sea_density})\n",
    "# Take a look:\n",
    "gom_sea.head()"
   ]
  },
  {
   "cell_type": "code",
   "execution_count": 18,
   "metadata": {},
   "outputs": [
    {
     "data": {
      "text/plain": [
       "array([1000., 1001., 1002., ..., 3512., 3513., 3514.], dtype=float32)"
      ]
     },
     "execution_count": 18,
     "metadata": {},
     "output_type": "execute_result"
    }
   ],
   "source": [
    "# Create a vector that represents the depth from the sea bottom to the first given point:\n",
    "gom_surface_depth = np.arange(1000, 3515, 1, dtype=np.float32)\n",
    "gom_surface_depth\n",
    "# z_surface = np.arange(1000, 3515, 1)"
   ]
  },
  {
   "cell_type": "code",
   "execution_count": 19,
   "metadata": {},
   "outputs": [
    {
     "data": {
      "text/plain": [
       "array([1.       , 1.0002785, 1.0005568, ..., 1.6994431, 1.6997216,\n",
       "       1.7      ], dtype=float32)"
      ]
     },
     "execution_count": 19,
     "metadata": {},
     "output_type": "execute_result"
    }
   ],
   "source": [
    "# Create a vector that represents the density from the sea bottom to the first given point interpolating linearly:\n",
    "gom_surface_density = np.linspace(1.0, 1.7, num=gom_surface_depth.shape[0], endpoint=True, dtype=np.float32)\n",
    "gom_surface_density"
   ]
  },
  {
   "cell_type": "code",
   "execution_count": 20,
   "metadata": {},
   "outputs": [
    {
     "data": {
      "text/html": [
       "<div>\n",
       "<style scoped>\n",
       "    .dataframe tbody tr th:only-of-type {\n",
       "        vertical-align: middle;\n",
       "    }\n",
       "\n",
       "    .dataframe tbody tr th {\n",
       "        vertical-align: top;\n",
       "    }\n",
       "\n",
       "    .dataframe thead th {\n",
       "        text-align: right;\n",
       "    }\n",
       "</style>\n",
       "<table border=\"1\" class=\"dataframe\">\n",
       "  <thead>\n",
       "    <tr style=\"text-align: right;\">\n",
       "      <th></th>\n",
       "      <th>depth_ft</th>\n",
       "      <th>density_gcm3</th>\n",
       "    </tr>\n",
       "  </thead>\n",
       "  <tbody>\n",
       "    <tr>\n",
       "      <th>0</th>\n",
       "      <td>1000.0</td>\n",
       "      <td>1.000000</td>\n",
       "    </tr>\n",
       "    <tr>\n",
       "      <th>1</th>\n",
       "      <td>1001.0</td>\n",
       "      <td>1.000278</td>\n",
       "    </tr>\n",
       "    <tr>\n",
       "      <th>2</th>\n",
       "      <td>1002.0</td>\n",
       "      <td>1.000557</td>\n",
       "    </tr>\n",
       "    <tr>\n",
       "      <th>3</th>\n",
       "      <td>1003.0</td>\n",
       "      <td>1.000835</td>\n",
       "    </tr>\n",
       "    <tr>\n",
       "      <th>4</th>\n",
       "      <td>1004.0</td>\n",
       "      <td>1.001114</td>\n",
       "    </tr>\n",
       "  </tbody>\n",
       "</table>\n",
       "</div>"
      ],
      "text/plain": [
       "   depth_ft  density_gcm3\n",
       "0    1000.0      1.000000\n",
       "1    1001.0      1.000278\n",
       "2    1002.0      1.000557\n",
       "3    1003.0      1.000835\n",
       "4    1004.0      1.001114"
      ]
     },
     "execution_count": 20,
     "metadata": {},
     "output_type": "execute_result"
    }
   ],
   "source": [
    "# Create the surface dataframe:\n",
    "gom_surface = pd.DataFrame({\"depth_ft\": gom_surface_depth, \"density_gcm3\": gom_surface_density})\n",
    "# Take a look:\n",
    "gom_surface.head()"
   ]
  },
  {
   "cell_type": "code",
   "execution_count": 21,
   "metadata": {},
   "outputs": [
    {
     "data": {
      "text/html": [
       "<div>\n",
       "<style scoped>\n",
       "    .dataframe tbody tr th:only-of-type {\n",
       "        vertical-align: middle;\n",
       "    }\n",
       "\n",
       "    .dataframe tbody tr th {\n",
       "        vertical-align: top;\n",
       "    }\n",
       "\n",
       "    .dataframe thead th {\n",
       "        text-align: right;\n",
       "    }\n",
       "</style>\n",
       "<table border=\"1\" class=\"dataframe\">\n",
       "  <thead>\n",
       "    <tr style=\"text-align: right;\">\n",
       "      <th></th>\n",
       "      <th>depth_ft</th>\n",
       "      <th>density_gcm3</th>\n",
       "    </tr>\n",
       "  </thead>\n",
       "  <tbody>\n",
       "    <tr>\n",
       "      <th>0</th>\n",
       "      <td>0.0</td>\n",
       "      <td>1.0</td>\n",
       "    </tr>\n",
       "    <tr>\n",
       "      <th>1</th>\n",
       "      <td>1.0</td>\n",
       "      <td>1.0</td>\n",
       "    </tr>\n",
       "    <tr>\n",
       "      <th>2</th>\n",
       "      <td>2.0</td>\n",
       "      <td>1.0</td>\n",
       "    </tr>\n",
       "    <tr>\n",
       "      <th>3</th>\n",
       "      <td>3.0</td>\n",
       "      <td>1.0</td>\n",
       "    </tr>\n",
       "    <tr>\n",
       "      <th>4</th>\n",
       "      <td>4.0</td>\n",
       "      <td>1.0</td>\n",
       "    </tr>\n",
       "  </tbody>\n",
       "</table>\n",
       "</div>"
      ],
      "text/plain": [
       "   depth_ft  density_gcm3\n",
       "0       0.0           1.0\n",
       "1       1.0           1.0\n",
       "2       2.0           1.0\n",
       "3       3.0           1.0\n",
       "4       4.0           1.0"
      ]
     },
     "execution_count": 21,
     "metadata": {},
     "output_type": "execute_result"
    }
   ],
   "source": [
    "# Concatenate the, sea, surface, and bottom dataframes:\n",
    "gom = pd.concat([gom_sea, gom_surface, gom_bottom], ignore_index=True)\n",
    "# Take a look:\n",
    "gom.head()"
   ]
  },
  {
   "cell_type": "code",
   "execution_count": 22,
   "metadata": {},
   "outputs": [
    {
     "data": {
      "image/png": "[encoded data removed]",
      "text/plain": [
       "<Figure size 1152x1152 with 1 Axes>"
      ]
     },
     "metadata": {
      "needs_background": "light"
     },
     "output_type": "display_data"
    }
   ],
   "source": [
    "plot_profile(gom, \"GOM Data\")"
   ]
  },
  {
   "cell_type": "markdown",
   "metadata": {},
   "source": [
    "### 2.“Block” the log into 5 depth units <a class=\"anchor\" id=\"plot_chunks\"></a>"
   ]
  },
  {
   "cell_type": "markdown",
   "metadata": {},
   "source": [
    "\"_“Block” the log into 5 depth units by assuming an approximately constant density over a given range of depths. Compute and plot the averaged density in each block and your blocked density as a function of depth for each dataset.\"_"
   ]
  },
  {
   "cell_type": "markdown",
   "metadata": {},
   "source": [
    "#### Barnett data:<br>"
   ]
  },
  {
   "cell_type": "markdown",
   "metadata": {},
   "source": [
    "Inspecting the Barnett chart visually:"
   ]
  },
  {
   "cell_type": "code",
   "execution_count": 40,
   "metadata": {},
   "outputs": [],
   "source": [
    "# Depths to brake. Bear in mind that the first and the last datapoints are the limits.\n",
    "barnett_edges = [-100, 800., 1200., 4900., 5900., 7000]\n",
    "# Labels for each block:\n",
    "block_labels = [\"block_01\", \"block_02\", \"block_03\", \"block_04\", \"block_05\"]"
   ]
  },
  {
   "cell_type": "code",
   "execution_count": 42,
   "metadata": {},
   "outputs": [
    {
     "data": {
      "text/html": [
       "<div>\n",
       "<style scoped>\n",
       "    .dataframe tbody tr th:only-of-type {\n",
       "        vertical-align: middle;\n",
       "    }\n",
       "\n",
       "    .dataframe tbody tr th {\n",
       "        vertical-align: top;\n",
       "    }\n",
       "\n",
       "    .dataframe thead th {\n",
       "        text-align: right;\n",
       "    }\n",
       "</style>\n",
       "<table border=\"1\" class=\"dataframe\">\n",
       "  <thead>\n",
       "    <tr style=\"text-align: right;\">\n",
       "      <th></th>\n",
       "      <th>depth_ft</th>\n",
       "      <th>density_gcm3</th>\n",
       "      <th>block</th>\n",
       "    </tr>\n",
       "  </thead>\n",
       "  <tbody>\n",
       "    <tr>\n",
       "      <th>0</th>\n",
       "      <td>0.0</td>\n",
       "      <td>1.8778</td>\n",
       "      <td>block_01</td>\n",
       "    </tr>\n",
       "    <tr>\n",
       "      <th>1</th>\n",
       "      <td>0.5</td>\n",
       "      <td>1.8778</td>\n",
       "      <td>block_01</td>\n",
       "    </tr>\n",
       "    <tr>\n",
       "      <th>2</th>\n",
       "      <td>1.0</td>\n",
       "      <td>1.8778</td>\n",
       "      <td>block_01</td>\n",
       "    </tr>\n",
       "    <tr>\n",
       "      <th>3</th>\n",
       "      <td>1.5</td>\n",
       "      <td>1.8778</td>\n",
       "      <td>block_01</td>\n",
       "    </tr>\n",
       "    <tr>\n",
       "      <th>4</th>\n",
       "      <td>2.0</td>\n",
       "      <td>1.8778</td>\n",
       "      <td>block_01</td>\n",
       "    </tr>\n",
       "  </tbody>\n",
       "</table>\n",
       "</div>"
      ],
      "text/plain": [
       "   depth_ft  density_gcm3     block\n",
       "0       0.0        1.8778  block_01\n",
       "1       0.5        1.8778  block_01\n",
       "2       1.0        1.8778  block_01\n",
       "3       1.5        1.8778  block_01\n",
       "4       2.0        1.8778  block_01"
      ]
     },
     "execution_count": 42,
     "metadata": {},
     "output_type": "execute_result"
    }
   ],
   "source": [
    "# Break the data into blocks, according to its depth:\n",
    "barnett[\"block\"] = pd.cut(barnett[\"depth_ft\"],\n",
    "                          barnett_edges, \n",
    "                          labels=block_labels)\n",
    "# Take a look:\n",
    "barnett.head()"
   ]
  },
  {
   "cell_type": "markdown",
   "metadata": {},
   "source": [
    "#### GOM data:<br>"
   ]
  },
  {
   "cell_type": "code",
   "execution_count": null,
   "metadata": {},
   "outputs": [],
   "source": []
  },
  {
   "cell_type": "code",
   "execution_count": null,
   "metadata": {},
   "outputs": [],
   "source": []
  },
  {
   "cell_type": "markdown",
   "metadata": {},
   "source": [
    "## II. Compute porosity from density measurements <a class=\"anchor\" id=\"compute-porosity\"></a>"
   ]
  },
  {
   "cell_type": "code",
   "execution_count": null,
   "metadata": {},
   "outputs": [],
   "source": []
  },
  {
   "cell_type": "code",
   "execution_count": null,
   "metadata": {},
   "outputs": [],
   "source": []
  },
  {
   "cell_type": "code",
   "execution_count": null,
   "metadata": {},
   "outputs": [],
   "source": []
  },
  {
   "cell_type": "markdown",
   "metadata": {},
   "source": [
    "## References"
   ]
  },
  {
   "cell_type": "code",
   "execution_count": null,
   "metadata": {},
   "outputs": [],
   "source": []
  }
 ],
 "metadata": {
  "kernelspec": {
   "display_name": "Python 3",
   "language": "python",
   "name": "python3"
  },
  "language_info": {
   "codemirror_mode": {
    "name": "ipython",
    "version": 3
   },
   "file_extension": ".py",
   "mimetype": "text/x-python",
   "name": "python",
   "nbconvert_exporter": "python",
   "pygments_lexer": "ipython3",
   "version": "3.7.7"
  }
 },
 "nbformat": 4,
 "nbformat_minor": 4
}
